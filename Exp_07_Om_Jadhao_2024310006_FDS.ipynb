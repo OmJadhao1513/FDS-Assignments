{
  "nbformat": 4,
  "nbformat_minor": 0,
  "metadata": {
    "colab": {
      "provenance": []
    },
    "kernelspec": {
      "name": "python3",
      "display_name": "Python 3"
    },
    "language_info": {
      "name": "python"
    }
  },
  "cells": [
    {
      "cell_type": "code",
      "execution_count": 2,
      "metadata": {
        "id": "8MVrG6PfOCv-"
      },
      "outputs": [],
      "source": [
        "# 1. Import Libraries\n",
        "import pandas as pd\n",
        "import numpy as np\n",
        "from sklearn.model_selection import train_test_split\n",
        "from sklearn.ensemble import RandomForestClassifier\n",
        "from sklearn.metrics import (\n",
        "    confusion_matrix, classification_report, roc_auc_score,\n",
        "    precision_recall_curve, f1_score, auc\n",
        ")\n",
        "from imblearn.over_sampling import SMOTE\n",
        "from sklearn.pipeline import Pipeline\n",
        "from sklearn.calibration import CalibratedClassifierCV\n",
        "from sklearn.preprocessing import StandardScaler"
      ]
    },
    {
      "cell_type": "code",
      "source": [
        "# 2. Data Preparation\n",
        "data = pd.read_csv(\"/content/drive/MyDrive/creditcard.csv\")\n",
        "X = data.drop('Class', axis=1)\n",
        "y = data['Class']"
      ],
      "metadata": {
        "id": "2wp63vKWTZ6S"
      },
      "execution_count": 9,
      "outputs": []
    },
    {
      "cell_type": "code",
      "source": [
        "# Train-test split\n",
        "X_train, X_test, y_train, y_test = train_test_split(X, y, test_size=0.2, random_state=42)"
      ],
      "metadata": {
        "id": "tEI85sDPTccD"
      },
      "execution_count": 4,
      "outputs": []
    },
    {
      "cell_type": "code",
      "source": [
        "# Apply SMOTE to balance the data\n",
        "smote = SMOTE(random_state=42)\n",
        "X_train_sm, y_train_sm = smote.fit_resample(X_train, y_train)"
      ],
      "metadata": {
        "id": "8bE9yHxTTfOZ"
      },
      "execution_count": 5,
      "outputs": []
    },
    {
      "cell_type": "code",
      "source": [
        "# 3. Pipeline Creation\n",
        "pipeline = Pipeline([\n",
        "    ('scaler', StandardScaler()),\n",
        "    ('classifier', RandomForestClassifier(random_state=42))\n",
        "])\n",
        "pipeline.fit(X_train_sm, y_train_sm)\n",
        "y_pred = pipeline.predict(X_test)"
      ],
      "metadata": {
        "id": "FTtVHbYRThcN"
      },
      "execution_count": 6,
      "outputs": []
    },
    {
      "cell_type": "code",
      "source": [
        "# 4. Performance Evaluation\n",
        "print(\"Confusion Matrix:\\n\", confusion_matrix(y_test, y_pred))\n",
        "print(\"Classification Report:\\n\", classification_report(y_test, y_pred))\n",
        "roc_auc = roc_auc_score(y_test, pipeline.predict_proba(X_test)[:, 1])\n",
        "print(\"ROC-AUC Score:\", roc_auc)\n",
        "precision, recall, _ = precision_recall_curve(y_test, pipeline.predict_proba(X_test)[:, 1])\n",
        "pr_auc = auc(recall, precision)\n",
        "print(\"PR-AUC Score:\", pr_auc)"
      ],
      "metadata": {
        "colab": {
          "base_uri": "https://localhost:8080/"
        },
        "id": "Lbf09vNMTjqj",
        "outputId": "388fe8e4-ea54-41bc-b85f-2618db221686"
      },
      "execution_count": 7,
      "outputs": [
        {
          "output_type": "stream",
          "name": "stdout",
          "text": [
            "Confusion Matrix:\n",
            " [[56852    12]\n",
            " [   16    82]]\n",
            "Classification Report:\n",
            "               precision    recall  f1-score   support\n",
            "\n",
            "           0       1.00      1.00      1.00     56864\n",
            "           1       0.87      0.84      0.85        98\n",
            "\n",
            "    accuracy                           1.00     56962\n",
            "   macro avg       0.94      0.92      0.93     56962\n",
            "weighted avg       1.00      1.00      1.00     56962\n",
            "\n",
            "ROC-AUC Score: 0.9848733246815891\n",
            "PR-AUC Score: 0.875020278384242\n"
          ]
        }
      ]
    },
    {
      "cell_type": "code",
      "source": [
        "# 5. Classifier Calibration\n",
        "calibrated_clf = CalibratedClassifierCV(\n",
        "    pipeline.named_steps['classifier'], method='isotonic', cv='prefit'\n",
        ")\n",
        "calibrated_clf.fit(X_train_sm, y_train_sm)\n",
        "y_calibrated_pred = calibrated_clf.predict(X_test)\n",
        "\n",
        "# Performance after calibration\n",
        "print(\"Confusion Matrix After Calibration:\\n\", confusion_matrix(y_test, y_calibrated_pred))"
      ],
      "metadata": {
        "colab": {
          "base_uri": "https://localhost:8080/"
        },
        "id": "TFIzwYwQTmFc",
        "outputId": "dfb9cb5b-e1fb-419b-f1be-d5cb911a47f0"
      },
      "execution_count": 8,
      "outputs": [
        {
          "output_type": "stream",
          "name": "stderr",
          "text": [
            "/usr/local/lib/python3.10/dist-packages/sklearn/base.py:486: UserWarning: X has feature names, but RandomForestClassifier was fitted without feature names\n",
            "  warnings.warn(\n",
            "/usr/local/lib/python3.10/dist-packages/sklearn/base.py:486: UserWarning: X has feature names, but RandomForestClassifier was fitted without feature names\n",
            "  warnings.warn(\n"
          ]
        },
        {
          "output_type": "stream",
          "name": "stdout",
          "text": [
            "Confusion Matrix After Calibration:\n",
            " [[53366  3498]\n",
            " [   53    45]]\n"
          ]
        }
      ]
    }
  ]
}